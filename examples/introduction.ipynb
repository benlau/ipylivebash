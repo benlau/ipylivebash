{
 "cells": [
  {
   "cell_type": "markdown",
   "metadata": {},
   "source": [
    "# Introduction\n",
    "\n",
    "ipylivebash is a module designed to run shell scripts with live output. It is intended to assist in using Jupyter as a DevOps runbook and control panel."
   ]
  },
  {
   "cell_type": "code",
   "execution_count": 2,
   "metadata": {},
   "outputs": [],
   "source": [
    "import ipylivebash"
   ]
  },
  {
   "cell_type": "code",
   "execution_count": 3,
   "metadata": {},
   "outputs": [
    {
     "data": {
      "application/vnd.jupyter.widget-view+json": {
       "model_id": "d9cc73cb364946b0b7694add677fbf7f",
       "version_major": 2,
       "version_minor": 0
      },
      "text/plain": []
     },
     "metadata": {},
     "output_type": "display_data"
    }
   ],
   "source": [
    "%%livebash\n",
    "# Live Output Demonstration\n",
    "# It will show Hello World one by one continuously with 0.1s pause.\n",
    "\n",
    "for i in {1..5}\n",
    "do\n",
    "  echo Hello World ${i}!\n",
    "  sleep 0.1\n",
    "done"
   ]
  },
  {
   "cell_type": "code",
   "execution_count": 4,
   "metadata": {},
   "outputs": [
    {
     "name": "stdout",
     "output_type": "stream",
     "text": [
      "usage: livebash [-h] [-ps] [--save OUTPUT_FILE] [--save-timestamp]\n",
      "                [--line-limit LINE_LIMIT] [--height HEIGHT] [--ask-confirm]\n",
      "                [--notify]\n",
      "\n",
      "options:\n",
      "  -h, --help\n",
      "  -ps, --print-sessions\n",
      "  --save OUTPUT_FILE    Save output to a file\n",
      "  --save-timestamp      Add timestamp to the output file name\n",
      "  --line-limit LINE_LIMIT\n",
      "                        Restrict the no. of lines to be shown\n",
      "  --height HEIGHT       Set the height of the output cell (no. of line)\n",
      "  --ask-confirm         Ask for confirmation before execution\n",
      "  --notify              Send a notification when the script finished\n"
     ]
    }
   ],
   "source": [
    "%%livebash --help\n",
    "\n"
   ]
  },
  {
   "cell_type": "code",
   "execution_count": 5,
   "metadata": {},
   "outputs": [
    {
     "data": {
      "application/vnd.jupyter.widget-view+json": {
       "model_id": "527f7a96ee204f8286d1f94857b5078c",
       "version_major": 2,
       "version_minor": 0
      },
      "text/plain": []
     },
     "metadata": {},
     "output_type": "display_data"
    }
   ],
   "source": [
    "%%livebash --save log.txt\n",
    "\n",
    "echo Save output to a file"
   ]
  },
  {
   "cell_type": "code",
   "execution_count": 6,
   "metadata": {},
   "outputs": [
    {
     "data": {
      "application/vnd.jupyter.widget-view+json": {
       "model_id": "46ad1b429eb94598ba4ca6151dab4095",
       "version_major": 2,
       "version_minor": 0
      },
      "text/plain": []
     },
     "metadata": {},
     "output_type": "display_data"
    }
   ],
   "source": [
    "%%livebash --save log.txt --save-timestamp\n",
    "\n",
    "echo Save output a file and add timestamp to the filename"
   ]
  },
  {
   "cell_type": "code",
   "execution_count": 7,
   "metadata": {},
   "outputs": [
    {
     "data": {
      "application/vnd.jupyter.widget-view+json": {
       "model_id": "9f0c8e6ff025422caace607be0725a0e",
       "version_major": 2,
       "version_minor": 0
      },
      "text/plain": []
     },
     "metadata": {},
     "output_type": "display_data"
    }
   ],
   "source": [
    "%%livebash --ask-confirm\n",
    "\n",
    "echo It will ask for confirmation before running this script"
   ]
  },
  {
   "cell_type": "code",
   "execution_count": 8,
   "metadata": {},
   "outputs": [
    {
     "data": {
      "application/vnd.jupyter.widget-view+json": {
       "model_id": "180893a81b814fb9821beee3f987825c",
       "version_major": 2,
       "version_minor": 0
      },
      "text/plain": []
     },
     "metadata": {},
     "output_type": "display_data"
    }
   ],
   "source": [
    "%%livebash --height 20\n",
    "# Set the height of the display cell (Unit: no. of lines)\n",
    "\n",
    "for i in {1..50}\n",
    "do\n",
    "  echo Line: ${i}!\n",
    "done"
   ]
  },
  {
   "cell_type": "code",
   "execution_count": 9,
   "metadata": {},
   "outputs": [
    {
     "data": {
      "application/vnd.jupyter.widget-view+json": {
       "model_id": "d7c37e8e57054333981f8a301a7f6780",
       "version_major": 2,
       "version_minor": 0
      },
      "text/plain": []
     },
     "metadata": {},
     "output_type": "display_data"
    }
   ],
   "source": [
    "%%livebash --notify\n",
    "\n",
    "echo It will send a notification when the script finished"
   ]
  },
  {
   "cell_type": "code",
   "execution_count": 10,
   "metadata": {},
   "outputs": [
    {
     "data": {
      "application/vnd.jupyter.widget-view+json": {
       "model_id": "7c203cc9fc6c418ab89718b882fc71f4",
       "version_major": 2,
       "version_minor": 0
      },
      "text/plain": []
     },
     "metadata": {},
     "output_type": "display_data"
    }
   ],
   "source": [
    "%%livebash --line-limit 10\n",
    "\n",
    "for i in {1..50}\n",
    "do\n",
    "  echo Line: ${i}!\n",
    "  sleep 0.1\n",
    "done"
   ]
  }
 ],
 "metadata": {
  "kernelspec": {
   "display_name": "Python 3 (ipykernel)",
   "language": "python",
   "name": "python3"
  },
  "language_info": {
   "codemirror_mode": {
    "name": "ipython",
    "version": 3
   },
   "file_extension": ".py",
   "mimetype": "text/x-python",
   "name": "python",
   "nbconvert_exporter": "python",
   "pygments_lexer": "ipython3",
   "version": "3.11.3"
  }
 },
 "nbformat": 4,
 "nbformat_minor": 4
}

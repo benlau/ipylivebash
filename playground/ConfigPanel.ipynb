{
 "cells": [
  {
   "cell_type": "markdown",
   "metadata": {},
   "source": [
    "# Scaffold Manual Test"
   ]
  },
  {
   "cell_type": "markdown",
   "metadata": {},
   "source": [
    "## ConfigPanel"
   ]
  },
  {
   "cell_type": "code",
   "execution_count": null,
   "metadata": {},
   "outputs": [],
   "source": [
    "# Single Value\n",
    "from ipylivebash.exp.scaffold import ConfigPanel, EnvVar\n",
    "\n",
    "var1 = EnvVar('VAR1', 'default value')\n",
    "panel = ConfigPanel(var1)\n",
    "panel.show()"
   ]
  },
  {
   "cell_type": "code",
   "execution_count": null,
   "metadata": {},
   "outputs": [],
   "source": [
    "# Mutliple Value Form\n",
    "from ipylivebash.exp.scaffold import ConfigPanel, EnvVar\n",
    "\n",
    "var1 = EnvVar('VAR1', 'default value')\n",
    "var2 = EnvVar('VAR2', 'default value')\n",
    "\n",
    "panel = ConfigPanel([var1, var2], title=\"Form\")\n",
    "panel.show()"
   ]
  },
  {
   "cell_type": "code",
   "execution_count": null,
   "metadata": {},
   "outputs": [],
   "source": [
    "# Run Function\n",
    "from ipylivebash.exp.scaffold import ConfigPanel, EnvVar\n",
    "\n",
    "def callback(value, context=None):\n",
    "    context.print_line(f\"VAR1: {value}\\n\")\n",
    "\n",
    "panel = ConfigPanel([EnvVar('VAR1', 'default value')], output=callback, title=\"Single Value\")\n",
    "panel.show()\n"
   ]
  },
  {
   "cell_type": "code",
   "execution_count": null,
   "metadata": {},
   "outputs": [],
   "source": [
    "# Run Function\n",
    "from ipylivebash.exp.scaffold import ConfigPanel, EnvVar\n",
    "\n",
    "def callback(value, context=None):\n",
    "    context.print_line(f\"VAR1: {value}\\n\")\n",
    "\n",
    "panel = ConfigPanel([\n",
    "    EnvVar('VAR1', 'default value'),\n",
    "    EnvVar('VAR2', 'default value'),\n",
    "    ], output=callback, title=\"Form\")\n",
    "panel.show()\n"
   ]
  },
  {
   "cell_type": "code",
   "execution_count": null,
   "metadata": {},
   "outputs": [],
   "source": [
    "# Instance write for Single Value Layout\n",
    "from ipylivebash.exp.scaffold import ConfigPanel, EnvFileVar\n",
    "\n",
    "var1 = EnvFileVar(\".env\",'VAR1', 'default value')\n",
    "\n",
    "panel = ConfigPanel(var1, instant_write=True)\n",
    "panel.show()\n"
   ]
  },
  {
   "cell_type": "code",
   "execution_count": null,
   "metadata": {},
   "outputs": [],
   "source": [
    "# Instance write for Form Layout\n",
    "from ipylivebash.exp.scaffold import ConfigPanel, EnvFileVar\n",
    "\n",
    "var1 = EnvFileVar(\".env\",'VAR1', 'var1 - default value')\n",
    "var2 = EnvFileVar(\".env\",'VAR2', 'var2 - default value')\n",
    "\n",
    "panel = ConfigPanel([\n",
    "    var1,\n",
    "    var2\n",
    "], title=\"form_instant_write\", instant_write=True)\n",
    "panel.show()\n"
   ]
  },
  {
   "cell_type": "code",
   "execution_count": null,
   "metadata": {},
   "outputs": [],
   "source": [
    "# Format Select\n",
    "from ipylivebash.exp.scaffold import ConfigPanel, EnvFileVar\n",
    "\n",
    "selected_env = EnvFileVar(\".env\", \"ENV\", defaults=\"dev\", select=[\"dev\", \"test\"])\n",
    "ConfigPanel(selected_env).show()"
   ]
  }
 ],
 "metadata": {
  "kernelspec": {
   "display_name": "ipylivebash-dev",
   "language": "python",
   "name": "python3"
  },
  "language_info": {
   "codemirror_mode": {
    "name": "ipython",
    "version": 3
   },
   "file_extension": ".py",
   "mimetype": "text/x-python",
   "name": "python",
   "nbconvert_exporter": "python",
   "pygments_lexer": "ipython3",
   "version": "3.11.3"
  }
 },
 "nbformat": 4,
 "nbformat_minor": 2
}

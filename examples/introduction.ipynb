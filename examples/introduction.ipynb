{
 "cells": [
  {
   "cell_type": "markdown",
   "metadata": {},
   "source": [
    "# Introduction\n",
    "\n",
    "ipylivebash is module to run shell script with live output\n"
   ]
  },
  {
   "cell_type": "code",
   "execution_count": 1,
   "metadata": {},
   "outputs": [],
   "source": [
    "import ipylivebash"
   ]
  },
  {
   "cell_type": "code",
   "execution_count": 2,
   "metadata": {},
   "outputs": [
    {
     "data": {
      "application/vnd.jupyter.widget-view+json": {
       "model_id": "0e7f27db038e4f1991dc0f2988c299e5",
       "version_major": 2,
       "version_minor": 0
      },
      "text/plain": [
       "LogView()"
      ]
     },
     "metadata": {},
     "output_type": "display_data"
    }
   ],
   "source": [
    "%%livebash\n",
    "# Live Output Demonstration\n",
    "# It will show Hello World one by one continuously with 0.1s pause.\n",
    "\n",
    "for i in {1..5}\n",
    "do\n",
    "  echo Hello World ${i}!\n",
    "  sleep 0.1\n",
    "done"
   ]
  },
  {
   "cell_type": "code",
   "execution_count": 3,
   "metadata": {},
   "outputs": [
    {
     "name": "stdout",
     "output_type": "stream",
     "text": [
      "usage: livebash [-h] [--save OUTPUT_FILE] [--save-timestamp]\n",
      "                [--line-limit LINE_LIMIT] [--height HEIGHT] [--ask-confirm]\n",
      "                [--notify] [--keep-cell-output]\n",
      "\n",
      "optional arguments:\n",
      "  -h, --help\n",
      "  --save OUTPUT_FILE    Save output to a file\n",
      "  --save-timestamp      Add timestamp to the output file name\n",
      "  --line-limit LINE_LIMIT\n",
      "                        Restrict the no. of lines to be shown\n",
      "  --height HEIGHT       Set the height of the output cell (no. of line)\n",
      "  --ask-confirm         Ask for confirmation before execution\n",
      "  --notify              Send a notification when the script finished\n",
      "  --keep-cell-output    Keep the cell output\n"
     ]
    }
   ],
   "source": [
    "%%livebash --help\n",
    "\n"
   ]
  },
  {
   "cell_type": "code",
   "execution_count": 4,
   "metadata": {},
   "outputs": [
    {
     "data": {
      "application/vnd.jupyter.widget-view+json": {
       "model_id": "f2fe289d49c649cfbab3b10a00b462ec",
       "version_major": 2,
       "version_minor": 0
      },
      "text/plain": [
       "LogView()"
      ]
     },
     "metadata": {},
     "output_type": "display_data"
    }
   ],
   "source": [
    "%%livebash --save log.txt\n",
    "\n",
    "echo Save output to a file"
   ]
  },
  {
   "cell_type": "code",
   "execution_count": 5,
   "metadata": {},
   "outputs": [
    {
     "data": {
      "application/vnd.jupyter.widget-view+json": {
       "model_id": "4151a88951d547bab132196fda53451f",
       "version_major": 2,
       "version_minor": 0
      },
      "text/plain": [
       "LogView()"
      ]
     },
     "metadata": {},
     "output_type": "display_data"
    }
   ],
   "source": [
    "%%livebash --save log.txt --save-timestamp\n",
    "\n",
    "echo Save output a file and add timestamp to the filename"
   ]
  },
  {
   "cell_type": "code",
   "execution_count": 6,
   "metadata": {},
   "outputs": [
    {
     "data": {
      "application/vnd.jupyter.widget-view+json": {
       "model_id": "560a8ae2455840ddbcaa8c0baa9d13e1",
       "version_major": 2,
       "version_minor": 0
      },
      "text/plain": [
       "LogView()"
      ]
     },
     "metadata": {},
     "output_type": "display_data"
    },
    {
     "data": {
      "application/vnd.jupyter.widget-view+json": {
       "model_id": "aa5a69130b33473aad235fdfd72a715f",
       "version_major": 2,
       "version_minor": 0
      },
      "text/plain": [
       "Output()"
      ]
     },
     "metadata": {},
     "output_type": "display_data"
    },
    {
     "data": {
      "application/vnd.jupyter.widget-view+json": {
       "model_id": "6e72ce9c344b443eb208df6f9a11eb8c",
       "version_major": 2,
       "version_minor": 0
      },
      "text/plain": [
       "HBox(children=(Button(description='Confirm', style=ButtonStyle()), Button(description='Cancel', style=ButtonSt…"
      ]
     },
     "metadata": {},
     "output_type": "display_data"
    }
   ],
   "source": [
    "%%livebash --ask-confirm\n",
    "\n",
    "echo It will ask for confirmation before running this script"
   ]
  },
  {
   "cell_type": "code",
   "execution_count": 7,
   "metadata": {},
   "outputs": [
    {
     "data": {
      "application/vnd.jupyter.widget-view+json": {
       "model_id": "5f4e34084c7a4121a1eacbe87216fa90",
       "version_major": 2,
       "version_minor": 0
      },
      "text/plain": [
       "LogView(height=20)"
      ]
     },
     "metadata": {},
     "output_type": "display_data"
    }
   ],
   "source": [
    "%%livebash --height 20\n",
    "# Set the height of the display cell (Unit: no. of lines)\n",
    "\n",
    "for i in {1..50}\n",
    "do\n",
    "  echo Line: ${i}!\n",
    "done"
   ]
  },
  {
   "cell_type": "code",
   "execution_count": 8,
   "metadata": {},
   "outputs": [
    {
     "data": {
      "application/vnd.jupyter.widget-view+json": {
       "model_id": "d112843511e940509e9b0e0795a3b6e7",
       "version_major": 2,
       "version_minor": 0
      },
      "text/plain": [
       "LogView()"
      ]
     },
     "metadata": {},
     "output_type": "display_data"
    }
   ],
   "source": [
    "%%livebash --notify\n",
    "\n",
    "echo It will send a notification when the script finished"
   ]
  },
  {
   "cell_type": "code",
   "execution_count": 11,
   "metadata": {},
   "outputs": [
    {
     "data": {
      "application/vnd.jupyter.widget-view+json": {
       "model_id": "f037717b0b2a4dd59d400ba50caa2fa3",
       "version_major": 2,
       "version_minor": 0
      },
      "text/plain": [
       "LogView()"
      ]
     },
     "metadata": {},
     "output_type": "display_data"
    }
   ],
   "source": [
    "%%livebash --line-limit 10\n",
    "\n",
    "for i in {1..50}\n",
    "do\n",
    "  echo Line: ${i}!\n",
    "  sleep 0.1\n",
    "done"
   ]
  },
  {
   "cell_type": "code",
   "execution_count": 9,
   "metadata": {},
   "outputs": [
    {
     "data": {
      "application/vnd.jupyter.widget-view+json": {
       "model_id": "db4871af22f84f569aacc4e343d868b0",
       "version_major": 2,
       "version_minor": 0
      },
      "text/plain": [
       "LogView()"
      ]
     },
     "metadata": {},
     "output_type": "display_data"
    },
    {
     "name": "stdout",
     "output_type": "stream",
     "text": [
      "Savable content\n"
     ]
    }
   ],
   "source": [
    "%%livebash --keep-cell-output\n",
    "\n",
    "#By default, the content displaoy via livebash is not perverse. Use this options to save the content in the notebook\n",
    "#But option like --line-limit will not works\n",
    "\n",
    "echo Savable content"
   ]
  }
 ],
 "metadata": {
  "kernelspec": {
   "display_name": "Python 3 (ipykernel)",
   "language": "python",
   "name": "python3"
  },
  "language_info": {
   "codemirror_mode": {
    "name": "ipython",
    "version": 3
   },
   "file_extension": ".py",
   "mimetype": "text/x-python",
   "name": "python",
   "nbconvert_exporter": "python",
   "pygments_lexer": "ipython3",
   "version": "3.9.9"
  }
 },
 "nbformat": 4,
 "nbformat_minor": 4
}
